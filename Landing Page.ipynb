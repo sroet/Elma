{
 "cells": [
  {
   "cell_type": "markdown",
   "id": "741a694a",
   "metadata": {},
   "source": [
    "# Workflow and Protocols for Kinetic Analysis of Covalent Enzyme Inhibitors\n",
    "\n",
    "These are the numerical simulation scripts used for the paper: \"TODO paper titel\". \n",
    "\n",
    "When using these scripts please read and cite the corresponding paper.\n",
    "\n",
    "\n",
    "\n",
    "The scripts are writen as [jupyter notebooks](https://jupyter.org) hosted through [binder](https://mybinder.org) and run on donated cloud infrastructure.\n",
    "\n",
    "To learn how to interact with these scripts please see the [tutorial notebook](tutorial.ipynb).\n",
    "\n",
    "The kinetic scripts are:\n",
    "\n",
    "|Script                 | Simulation assumption | Experimental restriction | Used in protocol/data analysis|\n",
    "|:----------------------| :-------------------- | :----------------------- | :-----------------------------|\n",
    "| [KinGen](elma3.ipynb) | $[I]_0 = [I]_t$  <br>  $[S]_0 = [S]_t$ <br> $k_{deg} = 0$ <br> $V_{add} = 0$ | $[I]_0 > 10 [E]_0$ <br> $[S]_0 > 10 [E]_0$ <br> $[P]_t < 0.1 [S]_0$ <br> $V_{add} << V_{E+I}$   |  I, II, III |\n",
    "| [KinDeg](elma3%20met%20E%20deg%20ESdeg%20EIdeg%20en%20EIideg.ipynb)$^{*}$ | $[I]_0 = [I]_t$ <br> $[S]_0 = [S]_t$ <br> $V_{add} = 0$ | $[I]_0 > 10 [E]_0$ <br> $[S]_0 > 10 [E]_0$ <br> $[P]_t < 0.1 [S]_0$ <br> $V_{add} << V_{E+I}$|I, II, III <br> Spontaneous loss of enzyme activity |\n",
    "| [KinSubDpl](ElmaSafhankelijkMoreI.ipynb)| $[I]_0 = [I]_t$  <br>  $k_{deg} = 0$ <br> $V_{add} = 0$  | $[I]_0 > 10 [E]_0$ <br> $[S]_0 > 10 [E]_0$ <br> $[P]_t < 0.1 [S]_0$ <br> $V_{add} << V_{E+I}$ | I, Substrate depletion (1D)|\n",
    "|[KinDil](ElmaVolume.ipynb)$^{**}$| $[I]_0 = [I]_t$  <br>  $[S]_0 = [S]_t$ <br> $k_{deg} = 0$ | $[I]_0 > 10[E]_0$ <br> $[S]_0 > 10[E]_0$ <br> $[P]_t < 0.1[S]_0 $  |IV|\n",
    "|[KinDilDeg](elma3%20met%20E%20deg%20ESdeg%20EIdeg%20en%20EIideg%20en%20Volume.ipynb)$^{*/**}$| $[I]_0 = [I]_{t'} $ <br> $[S]_0 = [S]_t$ | $[I]_0 > 10 [E]_0 $ <br> $[S]_0 >  10 [E]_0 $ <br> $[P]_t < 0.1 [S]_0 $| IV |\n",
    "|[KinInhDpl](ElmaIafhankelijk.ipynb)| $[S]_0 = [S]_t$ <br> $k_{deg} = 0$ <br> $V_{add} = 0 $| $[P]_t < 0.1[S]_0$ <br> $[S]_0 > 10[E]_0 $ <br> $V_{add} << V_{E+I}$| (intro inhibitor depletion) $\\hspace{5 in}$|\n",
    "\n",
    "\n",
    "| |\n",
    "|:----|\n",
    "|$^*$ First-order spontaneous enzyme degradation/denaturation <br> $^{**}$ $[I]_t$ becomes smaller than $[I]_{t'}$ after addition of S! (dilution) $\\hspace{5 in}$|\n",
    "\n"
   ]
  }
 ],
 "metadata": {
  "kernelspec": {
   "display_name": "Python 3 (ipykernel)",
   "language": "python",
   "name": "python3"
  },
  "language_info": {
   "codemirror_mode": {
    "name": "ipython",
    "version": 3
   },
   "file_extension": ".py",
   "mimetype": "text/x-python",
   "name": "python",
   "nbconvert_exporter": "python",
   "pygments_lexer": "ipython3",
   "version": "3.7.12"
  }
 },
 "nbformat": 4,
 "nbformat_minor": 5
}
