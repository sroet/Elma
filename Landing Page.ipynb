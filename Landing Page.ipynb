{
 "cells": [
  {
   "cell_type": "markdown",
   "id": "741a694a",
   "metadata": {},
   "source": [
    "# Protocols for Kinetic Analysis of Covalent Enzyme Inhibitors\n",
    "\n",
    "These are the numerical simulation scripts used for the paper: \n",
    "\n",
    "E. Mons, S. Roet, R.Q. Kim, and M.P.C. Mulder. Protocols for Kinetic Analysis of Covalent Enzyme Inhibitors. *Journal* **year,** *issue,* pages. doi: xx/xx\n",
    "\n",
    "\n",
    "The scripts are written as [jupyter notebooks](https://jupyter.org) hosted through [binder](https://mybinder.org) and run on donated cloud infrastructure.\n",
    "\n",
    "To learn how to interact with these scripts please see the [tutorial notebook](Tutorial.ipynb).\n",
    "\n",
    "The kinetic scripts are:\n",
    "\n",
    "|Script                 | Simulation assumption | Experimental restriction | Used in protocol/data analysis|\n",
    "|:----------------------| :-------------------- | :----------------------- | :-----------------------------|\n",
    "| [KinGen](KinGen.ipynb) | $[I]_0 = [I]_{t'} = [I]_t $  <br>  $[S]_0 = [S]_t$ <br> $k_{deg} = 0$ <br> $V_{add} = 0$ | $[I]_0 > 10 [E]_0$ <br> $[S]_0 > 10 [E]_0$ <br> $[P]_t < 0.1 [S]_0$ <br> $V_{add} << V_{E+I}$   |  I, II, III |\n",
    "| [KinDeg](KinDeg.ipynb)$^{*}$ | $[I]_0 = [I]_{t'} = [I]_t$ <br> $[S]_0 = [S]_t$ <br> $V_{add} = 0$ | $[I]_0 > 10 [E]_0$ <br> $[S]_0 > 10 [E]_0$ <br> $[P]_t < 0.1 [S]_0$ <br> $V_{add} << V_{E+I}$|I, II, III <br> Spontaneous loss of enzyme activity |\n",
    "| [KinSubDpl](KinSubDpl.ipynb)| $[I]_0 = [I]_{t'} = [I]_t$  <br>  $k_{deg} = 0$ <br> $V_{add} = 0$  | $[I]_0 > 10 [E]_0$ <br>  $V_{add} << V_{E+I}$ | I, Substrate depletion (1D)|\n",
    "|[KinDil](KinDil.ipynb)$^{**}$| $[I]_0 = [I]_{t'}$$=$$(1 + \\frac{V_{add}}{V_{E+I}})[I]_t $  <br>  $[S]_0 = [S]_t$ <br> $k_{deg} = 0$ | $[I]_0 > 10[E]_0$ <br> $[S]_0 > 10[E]_0$ <br> $[P]_t < 0.1[S]_0 $  |IV|\n",
    "|[KinDilDeg](KinDilDeg.ipynb)$^{*/**}$ | $[I]_0 = [I]_{t'}$$=$$(1 + \\frac{V_{add}}{V_{E+I}})[I]_t $ <br> $[S]_0 = [S]_t$ | $[I]_0 > 10 [E]_0 $ <br> $[S]_0 >  10 [E]_0 $ <br> $[P]_t < 0.1 [S]_0 $| IV |\n",
    "|[KinInhDpl](KinInhDpl.ipynb)| $k_{deg} = 0$ <br> $V_{add} = 0 $| $V_{add} << V_{E+I}$| (intro inhibitor depletion) $\\hspace{3 in}$|\n",
    "\n",
    "\n",
    "| |\n",
    "|:----|\n",
    "|$^*$ First-order spontaneous enzyme degradation/denaturation <br> $^{**}$ $[I]_0 =$ unbound inhibitor concentration at onset of inhibition, before (optional) enzyme binding. $[I]_{t'} =$ unbound inhibitor concentration during preincubation, after (optional) enzyme binding. $[I]_t =$ unbound inhibitor concentration during incubation, after (optional) enzyme binding. $[S]_0 =$ unbound substrate concentration at onset of product formation, before enzyme binding. $[S]_t =$ unbound substrate concentration during incubation, after (optional) enzyme binding. $\\hspace{5 in}$|\n",
    "\n",
    "These scripts are licenced under [CC-BY-4.0](https://creativecommons.org/licenses/by/4.0/). When using these scripts please attribute by citing the corresponding paper."
   ]
  }
 ],
 "metadata": {
  "kernelspec": {
   "display_name": "Python 3 (ipykernel)",
   "language": "python",
   "name": "python3"
  },
  "language_info": {
   "codemirror_mode": {
    "name": "ipython",
    "version": 3
   },
   "file_extension": ".py",
   "mimetype": "text/x-python",
   "name": "python",
   "nbconvert_exporter": "python",
   "pygments_lexer": "ipython3",
   "version": "3.9.7"
  }
 },
 "nbformat": 4,
 "nbformat_minor": 5
}
