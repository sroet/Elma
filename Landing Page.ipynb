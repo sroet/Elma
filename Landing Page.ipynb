{
 "cells": [
  {
   "cell_type": "markdown",
   "id": "741a694a",
   "metadata": {},
   "source": [
    "# A Comprehensive Guide for Assessing Covalent Inhibition in Enzymatic Assays Illustrated with Kinetic Simulations\n",
    "\n",
    "These are the numerical simulation scripts used for the paper: \n",
    "\n",
    "E. Mons, S. Roet, R.Q. Kim, and M.P.C. Mulder. A Comprehensive Guide for Assessing Covalent Inhibition in Enzymatic Assays Illustrated with Kinetic Simulations. *Journal* **year,** *issue,* pages. doi: xx/xx\n",
    "\n",
    "\n",
    "The scripts are written as [jupyter notebooks](https://jupyter.org) hosted through [binder](https://mybinder.org) and run on donated cloud infrastructure.\n",
    "\n",
    "To learn how to interact with these scripts please see the [tutorial notebook](Tutorial.ipynb).\n",
    "\n",
    "The kinetic scripts are:\n",
    "\n",
    "|Script                 | Simulation assumption | Experimental restriction | Used in protocol/data analysis|\n",
    "|:----------------------| :-------------------- | :----------------------- | :-----------------------------|\n",
    "| [KinGen](KinGen.ipynb) | $[I]_0 = [I]_{t'} = [I]_t $  <br>  $[S]_0 = [S]_t$ <br> $k_{deg} = 0$ <br> $V_{t'} = V_t$ | $[I]_0 > 10 [E]_0$ <br> $[S]_0 > 10 [E]_0$ <br> $[P]_t < 0.1 [S]_0$ <br> $V_{sub} << V_{t'}$   |  I, II, III |\n",
    "| [KinSubDpl](KinSubDpl.ipynb)| $[I]_0 = [I]_{t'} = [I]_t$  <br>  $k_{deg} = 0$ <br> $V_{t'} = V_t$  | $[I]_0 > 10 [E]_0$ <br>  $V_{sub} << V_{t'}$ | I, Substrate depletion (1D)|\n",
    "|[KinVol](KinVol.ipynb)| $[I]_0 = [I]_{t'}$$=$$(1 + \\frac{V_{sub}}{V_{t'}})[I]_t $  <br>  $[S]_0 = [S]_t$ <br> $k_{deg} = 0$ | $[I]_0 > 10[E]_0$ <br> $[S]_0 > 10[E]_0$ <br> $[P]_t < 0.1[S]_0 $  |IV|\n",
    "|[KinInhDpl](KinInhDpl.ipynb)| $k_{deg} = 0$ <br> $V_{t'} = V_t $| $V_{sub} << V_{t'}$| (intro inhibitor depletion) $\\hspace{3 in}$|\n",
    "| [KinDeg](KinDeg.ipynb)$^{*}$ | $[I]_0 = [I]_{t'} = [I]_t$ <br> $[S]_0 = [S]_t$ <br> $V_{t'} = V_t$ | $[I]_0 > 10 [E]_0$ <br> $[S]_0 > 10 [E]_0$ <br> $[P]_t < 0.1 [S]_0$ <br> $V_{sub} << V_{t'}$|I, II, III <br> Spontaneous loss of enzyme activity |\n",
    "|[KinVolDeg](KinVolDeg.ipynb)$^{*}$ | $[I]_0 = [I]_{t'}$$=$$(1 + \\frac{V_{sub}}{V_{t'}})[I]_t $ <br> $[S]_0 = [S]_t$ | $[I]_0 > 10 [E]_0 $ <br> $[S]_0 >  10 [E]_0 $ <br> $[P]_t < 0.1 [S]_0 $| IV |\n",
    "\n",
    "\n",
    "\n",
    "| |\n",
    "|:----|\n",
    "|$[I]_0 =$ unbound inhibitor concentration at onset of inhibition, before (optional) enzyme binding. $[I]_{t'} =$ unbound inhibitor concentration during preincubation, after (optional) enzyme binding. $[I]_t =$ unbound inhibitor concentration during incubation, after (optional) enzyme binding. $[S]_0 =$ unbound substrate concentration at onset of product formation, before enzyme binding. $[S]_t =$ unbound substrate concentration during incubation, after (optional) enzyme binding and product formation. $V_{t'} =$ reaction volume during preincubation. $V_{sub} =$ volume containing substrate. $V_t =$ reaction volume during incubation $(V_t = V_{sub} + V_{t'})$. <br> $^{*}$ First-order spontaneous enzyme degradation/denaturation $\\hspace{5 in}$|\n",
    "\n",
    "These scripts are licenced under [CC-BY-4.0](https://creativecommons.org/licenses/by/4.0/). When using these scripts please attribute by citing the corresponding paper."
   ]
  }
 ],
 "metadata": {
  "kernelspec": {
   "display_name": "Python 3 (ipykernel)",
   "language": "python",
   "name": "python3"
  },
  "language_info": {
   "codemirror_mode": {
    "name": "ipython",
    "version": 3
   },
   "file_extension": ".py",
   "mimetype": "text/x-python",
   "name": "python",
   "nbconvert_exporter": "python",
   "pygments_lexer": "ipython3",
   "version": "3.9.7"
  }
 },
 "nbformat": 4,
 "nbformat_minor": 5
}
