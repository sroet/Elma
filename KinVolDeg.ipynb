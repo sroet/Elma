{
 "cells": [
  {
   "cell_type": "code",
   "execution_count": null,
   "metadata": {
    "executionInfo": {
     "elapsed": 24,
     "status": "ok",
     "timestamp": 1632485042115,
     "user": {
      "displayName": "Sander Roet",
      "photoUrl": "https://lh3.googleusercontent.com/a/default-user=s64",
      "userId": "06076089908964288398"
     },
     "user_tz": -120
    },
    "id": "p8TP-tFIW2eS"
   },
   "outputs": [],
   "source": [
    "%matplotlib inline\n",
    "import numpy as np\n",
    "import matplotlib.pyplot as plt\n",
    "import pandas as pd"
   ]
  },
  {
   "cell_type": "code",
   "execution_count": null,
   "metadata": {
    "executionInfo": {
     "elapsed": 283,
     "status": "ok",
     "timestamp": 1632485042383,
     "user": {
      "displayName": "Sander Roet",
      "photoUrl": "https://lh3.googleusercontent.com/a/default-user=s64",
      "userId": "06076089908964288398"
     },
     "user_tz": -120
    },
    "id": "rBeV5ETCW8Q2"
   },
   "outputs": [],
   "source": [
    "# Define values for rate constants (k)\n",
    "k1 = 100000000     # rate constant for E + S --> ES\n",
    "k2 = 100           # rate constant for ES --> E + S\n",
    "k3 = 100000000     # rate constant for E + I --> EI (non-covalent)\n",
    "k4 = 10            # rate constant for EI (non-covalent) --> E + I\n",
    "k5 = 0.001         # rate constant for EI (non-covalent) --> EI* (covalent)\n",
    "k6 = 0             # rate constant for EI* (covalent) --> EI (non-covalent)\n",
    "kcat = 1           # rate constant for ES --> E + P\n",
    "kEdeg = 0.00003    # rate constant for E --> Edeg\n",
    "kESdeg = 0.00003   # rate constant for ES --> ESdeg\n",
    "kEIdeg = 0.00003   # rate constant for EI --> EIdeg\n",
    "kEIideg = 0.00003  # rate constant for EI* --> EI*deg\n",
    "\n",
    "\n",
    "# Define concentrations at start of measurement t=0 (in V0, before addition of substrate)\n",
    "# (These values are not assumed to be constant during the simulation)\n",
    "\n",
    "E0 = 1*10**-12  # Unbound enzyme concentration E before dilution! (In V0)\n",
    "ES0 = 0         # Non-covalent enzyme-substrate complex ES (in V0)\n",
    "P0 = 0          # Product (in V0)\n",
    "EI0 = 0         # Non-covalent enzyme-inhibitor complex EI (in V0)\n",
    "EIi0 = 0        # Covalent enzyme-inhibitor complex (EI*) (in V0)\n",
    "Edeg = 0        # Degraded E (in V0)\n",
    "ESdeg = 0       # Degraded ES (in V0)\n",
    "EIdeg = 0       # Degraded EI (in V0)\n",
    "EIideg = 0      # Degraded EI* (in V0)\n",
    "\n",
    "\n",
    "\n",
    "# Define assay constants \n",
    "# (These values are assumed to be constant during the simulation, but are updated once when the volume changes)\n",
    "V0 = 1       # Volume before addition of the substrate\n",
    "VS = 99      # Volume of the added substrate, assumed is that S0 = S/VS (so concentration in the volume of just substrate, not the final volume)\n",
    "Vtot = V0+VS # Total volume after addition of substrate\n",
    "\n",
    "\n",
    "Is = [1*10**-6, 0.5*10**-6, 0.25*10**-6, 0.15*10**-6, 0.075*10**-6, 0.04*10**-6, 0.02*10**-6, 10*10**-9, 0*10**-9] # List of inhibitor concentrations (in V0). Concentration before dilution! Can only be assumed constant if inhibitor concentration is >10*E0.\n",
    "S0 = 100*10**-9 # Substrate concentration before mixing (in VS)! This is assumed to be constant after addition, which is only true if substrate conversion is less than 10%\n",
    "dt = 0.001   # Seconds per simulation step (dt). Maximum value for dt defined by k1*S0*dt<1 and k3*I0*dt <1\n",
    "\n",
    "tframe = 60   # Save a frame every 'tframe' seconds\n",
    "tpincub = 600 # Preincubate with inhibitor for 'tpincub' seconds\n",
    "tsub = 600    # Run with substrate for 'tsub' seconds\n",
    "\n",
    "csv_file = \"KinDilDeg.csv\" # filename of the .csv output file"
   ]
  },
  {
   "cell_type": "code",
   "execution_count": null,
   "metadata": {
    "executionInfo": {
     "elapsed": 35713,
     "status": "ok",
     "timestamp": 1632485078092,
     "user": {
      "displayName": "Sander Roet",
      "photoUrl": "https://lh3.googleusercontent.com/a/default-user=s64",
      "userId": "06076089908964288398"
     },
     "user_tz": -120
    },
    "id": "1J9xe0fBXFLT"
   },
   "outputs": [],
   "source": [
    "all_conc = []\n",
    "all_t0 = []\n",
    "all_t1 = []\n",
    "for I in Is: # Loop over all I's\n",
    "    all_conc.append(np.array([E0, ES0, P0, EI0, EIi0, Edeg, ESdeg, EIdeg, EIideg], dtype=np.double)) # Matrix of concentrations\n",
    "    # Before addition of of S\n",
    "\n",
    "    S = 0  # No S in the system\n",
    "        \n",
    "                          # [               E,              ES, P,            EI,         EI*, Edeg, ESdeg, EIdeg, EIideg]\n",
    "    all_t0.append(np.array([[-k3*I-k1*S-kEdeg,         k2+kcat, 0,            k4,           0,    0,     0,     0,      0],  #E\n",
    "                            [            k1*S, -k2-kcat-kESdeg, 0,             0,           0,    0,     0,     0,      0],  #ES\n",
    "                            [               0,            kcat, 0,             0,           0,    0,     0,     0,      0],  #P\n",
    "                            [            k3*I,               0, 0, -k4-k5-kEIdeg,          k6,    0,     0,     0,      0],  #EI\n",
    "                            [               0,               0, 0,            k5, -k6-kEIideg,    0,     0,     0,      0],  #EI*\n",
    "                            [           kEdeg,               0, 0,             0,           0,    0,     0,     0,      0],  #Edeg\n",
    "                            [               0,          kESdeg, 0,             0,           0,    0,     0,     0,      0],  #ESdeg\n",
    "                            [               0,               0, 0,        kEIdeg,           0,    0,     0,     0,      0],  #EIdeg\n",
    "                            [               0,               0, 0,             0,     kEIideg,    0,     0,     0,      0]   #EIideg\n",
    "                            ]).T)\n",
    "\n",
    "    # Change in E      = [E]*(-k3*I-k1*S-kEdeg) + [ES]*(k2+kcat)         + [P]*(0) + [EI]*(k4)            + [EI*]*(0)           + [Edeg]*(0) + [ESdeg]*(0)\n",
    "    # Change in ES     = [E]*(k1*S)             + [ES]*(-k2-kcat-kESdeg) + [P]*(0) + [EI]*(0)             + [EI*]*(0)           + [Edeg]*(0) + [ESdeg]*(0)\n",
    "    # Change in P      = [E]*(0)                + [ES]*(kcat)            + [P]*(0) + [EI]*(0)             + [EI*]*(0)           + [Edeg]*(0) + [ESdeg]*(0)\n",
    "    # Change in EI     = [E]*(k3*I)             + [ES]*(0)               + [P]*(0) + [EI]*(-k4-k5-kEIdeg) + [EI*]*(k6)          + [Edeg]*(0) + [ESdeg]*(0)\n",
    "    # Change in EI*    = [E]*(0)                + [ES]*(0)               + [P]*(0) + [EI]*(k5)            + [EI*]*(-k6-kEIideg) + [Edeg]*(0) + [ESdeg]*(0)\n",
    "    # Change in Edeg   = [E]*(kEdeg)            + [ES]*(0)               + [P]*(0) + [EI]*(0)             + [EI*]*(0)           + [Edeg]*(0) + [ESdeg]*(0)\n",
    "    # Change in ESdeg  = [E]*(0)                + [ES]*(kESdeg)          + [P]*(0) + [EI]*(0)             + [EI*]*(0)           + [Edeg]*(0) + [ESdeg]*(0)\n",
    "    # Change in EIdeg  = [E]*(0)                + [ES]*(0)               + [P]*(0) + [EI]*(kEIdeg)        + [EI*]*(0)           + [Edeg]*(0) + [ESdeg]*(0)\n",
    "    # Change in EIideg = [E]*(0)                + [ES]*(kESdeg)          + [P]*(0) + [EI]*(0)             + [EI*]*(kEIideg)     + [Edeg]*(0) + [ESdeg]*(0)\n",
    "\n",
    "\n",
    "\n",
    "    # After addition of S\n",
    "    S= S0*(VS/Vtot) # Substrate concentration after addition (assumed to be constant after this)\n",
    "    I = I*(V0/Vtot) # New inhibitor concentration after S addition (assumed to be constant after dilution)\n",
    "    all_t1.append(np.array([[-k3*I-k1*S-kEdeg, k2+kcat, 0, k4, 0, 0, 0, 0, 0],\n",
    "                            [k1*S, -k2-kcat-kESdeg, 0, 0, 0, 0, 0, 0, 0],\n",
    "                            [0, kcat, 0, 0, 0, 0, 0, 0, 0],\n",
    "                            [k3*I, 0, 0, -k4-k5-kEIdeg, k6, 0, 0, 0, 0],\n",
    "                            [0, 0, 0, k5, -k6-kEIideg, 0, 0, 0, 0],\n",
    "                            [kEdeg, 0, 0, 0, 0, 0, 0, 0, 0],\n",
    "                            [0, kESdeg, 0, 0, 0, 0, 0, 0, 0],\n",
    "                            [0, 0, 0, kEIdeg, 0, 0, 0, 0, 0],\n",
    "                            [0, 0, 0, 0, kEIideg, 0, 0, 0, 0]]).T)\n",
    "    \n",
    "# Make a list of copies of the start concentrations for each inhibitorconcentration\n",
    "concentrations = np.stack(all_conc)  \n",
    "t0 = np.stack(all_t0)\n",
    "t1 = np.stack(all_t1)                \n",
    "plot = [concentrations.copy()] # Make a list for plotting\n",
    "\n",
    "timeconc = concentrations.copy()\n",
    "t = 0\n",
    "# Before addition of S (tpincub/dt steps)\n",
    "for i in range(int(tpincub/dt)):\n",
    "    t += 1\n",
    "    timeconc += np.dot(timeconc, t0*dt).diagonal().T\n",
    "    \n",
    "    if (timeconc < 0).any():\n",
    "        raise ValueError(\"Got a negative concentration, try decreasing dt\")\n",
    "\n",
    "    if t % int(tframe/dt)==0:\n",
    "        print(f\"frame: {int(t / (tframe//dt))}\")\n",
    "        plot.append(timeconc.copy()) # Add the current concentrations to the list\n",
    "\n",
    "print(\"Adding substrate\")\n",
    "# After addition of S (tsub/dt steps)\n",
    "timeconc *= (V0/Vtot) # Dilute all current concentrations\n",
    "for i in range(int(tsub/dt)):\n",
    "    t += 1\n",
    "    timeconc += np.dot(timeconc, t1*dt).diagonal().T   \n",
    "    if (timeconc < 0).any():\n",
    "        raise ValueError(\"Got a negative concentration, try decreasing dt\")\n",
    "\n",
    "    if t % int(tframe/dt)==0:\n",
    "        print(f\"frame: {int(t / (tframe//dt))}\")\n",
    "        plot.append(timeconc.copy()) # Add the current concentrations to the list"
   ]
  },
  {
   "cell_type": "code",
   "execution_count": null,
   "metadata": {
    "executionInfo": {
     "elapsed": 19,
     "status": "ok",
     "timestamp": 1632485078101,
     "user": {
      "displayName": "Sander Roet",
      "photoUrl": "https://lh3.googleusercontent.com/a/default-user=s64",
      "userId": "06076089908964288398"
     },
     "user_tz": -120
    },
    "id": "rZ-T9MbfXJtK"
   },
   "outputs": [],
   "source": [
    "all_plots = np.array(plot).swapaxes(0,1)  # Swap data axis 0 and axis 1"
   ]
  },
  {
   "cell_type": "code",
   "execution_count": null,
   "metadata": {
    "colab": {
     "base_uri": "https://localhost:8080/",
     "height": 1000
    },
    "executionInfo": {
     "elapsed": 6750,
     "status": "ok",
     "timestamp": 1632485084838,
     "user": {
      "displayName": "Sander Roet",
      "photoUrl": "https://lh3.googleusercontent.com/a/default-user=s64",
      "userId": "06076089908964288398"
     },
     "user_tz": -120
    },
    "id": "ANUV7F_oXyM9",
    "outputId": "4baf835e-69a5-4b6c-cc73-ef5b3d6dda38"
   },
   "outputs": [],
   "source": [
    "# This will make all the plots and dataframes\n",
    "dataframes = []\n",
    "fig, axes = plt.subplots(len(all_plots), 2, figsize=(12,len(all_plots)*6))\n",
    "for n, plot in enumerate(all_plots):\n",
    "    # Split the lists of concentrations into E, ES, P, EI en EI*, ...\n",
    "    Eplot = [] \n",
    "    ESplot = []\n",
    "    Pplot = []\n",
    "    EIplot = []\n",
    "    EIiplot = []\n",
    "    EItot = []\n",
    "    Edegplot = []\n",
    "    ESdegplot = []\n",
    "    EIdegplot = []\n",
    "    EIidegplot = []\n",
    "\n",
    "    # Loop over all the frames and add the data to the right list\n",
    "    for frame in plot:\n",
    "        Eplot.append(frame[0])\n",
    "        ESplot.append(frame[1])\n",
    "        Pplot.append(frame[2])\n",
    "        EIplot.append(frame[3])\n",
    "        EIiplot.append(frame[4])\n",
    "        EItot.append(frame[3]+frame[4]) \n",
    "        Edegplot.append(frame[5])\n",
    "        ESdegplot.append(frame[6])\n",
    "        EIdegplot.append(frame[7])\n",
    "        EIidegplot.append(frame[8])\n",
    "    \n",
    "    # Select 2 plots to start filling with data\n",
    "    if len(all_plots) == 1:\n",
    "        ax0 = axes[0]\n",
    "        ax1 = axes[1]\n",
    "    else:\n",
    "        ax0 = axes[n,0]\n",
    "        ax1 = axes[n,1]\n",
    "    \n",
    "    # Plot the figures\n",
    "    labels = ('E', 'ES', \"P\", \"EI\", \"EI*\", \"EI+Ei*\", \"Edeg\", \"ESdeg\", \"EIdeg\", \"EI*deg\")\n",
    "    \n",
    "    for i,y in enumerate((Eplot, ESplot, Pplot, EIplot, EIiplot, EItot, Edegplot, ESdegplot, EIdegplot, EIidegplot)):\n",
    "        ax0.plot(y, label=labels[i])\n",
    "    ax0.legend()\n",
    "    for i,y in enumerate((Eplot, ESplot, Pplot, EIplot, EIiplot, EItot, Edegplot, ESdegplot, EIdegplot, EIidegplot)):\n",
    "        ax1.plot(y, label=labels[i])\n",
    "    ax1.legend()\n",
    "    ax1.set_ylim(0,E0)  # Zoom in to E0\n",
    "    ax0.set_title(\"[I] = {}\".format(str(Is[n]))) # Set title of the subplots\n",
    "    ax1.set_title(\"[I] = {}\".format(str(Is[n])))\n",
    "    \n",
    "    # Make a pandas.Dataframe for all the data\n",
    "    df = pd.DataFrame(data={'E':Eplot,  \"EI\":EIplot, \"EIi\":EIiplot, \"ES\":ESplot, \"P\":Pplot,\n",
    "                            \"Edeg\":Edegplot, \"ESdeg\":ESdegplot, \"EIdeg\":EIdegplot, \"EIideg\":EIidegplot}\n",
    "                     )\n",
    "    dataframes.append(df)\n",
    "\n",
    "# Combine all the dataframes\n",
    "df = pd.concat(dataframes, keys=[I for I in Is], axis=1) "
   ]
  },
  {
   "cell_type": "code",
   "execution_count": null,
   "metadata": {
    "colab": {
     "base_uri": "https://localhost:8080/",
     "height": 538
    },
    "executionInfo": {
     "elapsed": 324,
     "status": "ok",
     "timestamp": 1632485085158,
     "user": {
      "displayName": "Sander Roet",
      "photoUrl": "https://lh3.googleusercontent.com/a/default-user=s64",
      "userId": "06076089908964288398"
     },
     "user_tz": -120
    },
    "id": "zZqzuEZoX2XO",
    "outputId": "92d76889-19ba-4ab7-928d-ee543832f37e"
   },
   "outputs": [],
   "source": [
    "# Print the dataframe\n",
    "df"
   ]
  },
  {
   "cell_type": "code",
   "execution_count": null,
   "metadata": {
    "colab": {
     "base_uri": "https://localhost:8080/"
    },
    "executionInfo": {
     "elapsed": 8,
     "status": "ok",
     "timestamp": 1632485085159,
     "user": {
      "displayName": "Sander Roet",
      "photoUrl": "https://lh3.googleusercontent.com/a/default-user=s64",
      "userId": "06076089908964288398"
     },
     "user_tz": -120
    },
    "id": "sqx18yIuX8C3",
    "outputId": "05961c2d-6bec-40c2-f448-7a90faa52268"
   },
   "outputs": [],
   "source": [
    "# Print the csv if you want to copy it to your clipboard\n",
    "print(df.to_csv())"
   ]
  },
  {
   "cell_type": "code",
   "execution_count": null,
   "metadata": {},
   "outputs": [],
   "source": [
    "# Write out the csv file\n",
    "df.to_csv(csv_file)"
   ]
  },
  {
   "cell_type": "code",
   "execution_count": null,
   "metadata": {},
   "outputs": [],
   "source": [
    "from IPython.display import Markdown # Needed to generate download link\n",
    "Markdown(f'<a href=\"./{csv_file}\" download=\"{csv_file}\"> Download {csv_file} </a>') # Print download link"
   ]
  }
 ],
 "metadata": {
  "colab": {
   "collapsed_sections": [],
   "name": "elma3 met E deg ESdeg EIdeg en EIideg en Volume.ipynb",
   "provenance": [
    {
     "file_id": "1prDaPldTKGw9XWmKGl8qNumDzx_Oix7j",
     "timestamp": 1632484605215
    },
    {
     "file_id": "1OCXrhMRdyMbj0X3-T05K9UcdagLfN8EV",
     "timestamp": 1583946087243
    },
    {
     "file_id": "1p21JgNBroq2fE3Xswg4mvg-w2p1sNAcg",
     "timestamp": 1578506686400
    },
    {
     "file_id": "1Dek0ROGglU9WZBit0gWPpVC0I6HCTrwy",
     "timestamp": 1573748413281
    }
   ]
  },
  "kernelspec": {
   "display_name": "Python 3 (ipykernel)",
   "language": "python",
   "name": "python3"
  },
  "language_info": {
   "codemirror_mode": {
    "name": "ipython",
    "version": 3
   },
   "file_extension": ".py",
   "mimetype": "text/x-python",
   "name": "python",
   "nbconvert_exporter": "python",
   "pygments_lexer": "ipython3",
   "version": "3.9.7"
  }
 },
 "nbformat": 4,
 "nbformat_minor": 1
}
