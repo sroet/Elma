{
 "cells": [
  {
   "cell_type": "code",
   "execution_count": null,
   "metadata": {
    "executionInfo": {
     "elapsed": 805,
     "status": "ok",
     "timestamp": 1602495743662,
     "user": {
      "displayName": "Elma Mons",
      "photoUrl": "",
      "userId": "16900746329890233149"
     },
     "user_tz": -120
    },
    "id": "XK-hEviKmDwx"
   },
   "outputs": [],
   "source": [
    "%matplotlib inline\n",
    "import numpy as np\n",
    "import matplotlib.pyplot as plt\n",
    "import pandas as pd"
   ]
  },
  {
   "cell_type": "code",
   "execution_count": null,
   "metadata": {
    "executionInfo": {
     "elapsed": 789,
     "status": "ok",
     "timestamp": 1602495743663,
     "user": {
      "displayName": "Elma Mons",
      "photoUrl": "",
      "userId": "16900746329890233149"
     },
     "user_tz": -120
    },
    "id": "bWFwt03NmL8M"
   },
   "outputs": [],
   "source": [
    "# Define values for rate constants (k)\n",
    "k1 = 100000000     # rate constant for E + S --> ES\n",
    "k2 = 100           # rate constant for ES --> E + S\n",
    "k3 = 100000000     # rate constant for E + I --> EI (non-covalent)\n",
    "k4 = 10            # rate constant for EI (non-covalent) --> E + I\n",
    "k5 = 0.001         # rate constant for EI (non-covalent) --> EI* (covalent)\n",
    "k6 = 0             # rate constant for EI* (covalent) --> EI (non-covalent)\n",
    "kcat = 1           # rate constant for ES --> E + P\n",
    "\n",
    "# Define concentrations at start of measurement t=0 \n",
    "# (These values are not assumed to be constant during the simulation)\n",
    "\n",
    "E0 = 1*10**-12  # Unbound enzyme concentration E\n",
    "ES0 = 0         # Non-covalent enzyme-substrate complex ES\n",
    "P0 = 0          # Product\n",
    "EI0 = 0         # Non-covalent enzyme-inhibitor complex EI\n",
    "EIi0 = 0        # Covalent enzyme-inhibitor complex (EI*) \n",
    "Is = [1*10**-6, 0.5*10**-6, 0.25*10**-6, 0.15*10**-6, 0.075*10**-6, 0.04*10**-6, 0.02*10**-6, 10*10**-9, 0*10**-9] # List of inhibitor concentrations. \n",
    "S0 = 100*10**-9  # Substrate concentration.\n",
    "\n",
    "\n",
    "# Define assay constants\n",
    "dt = 0.001       # Seconds per simulation step (dt). Maximum value for dt defined by k1*S0*dt < 1 and k3*I0*dt < 1\n",
    "\n",
    "tframe = 60    # Save a frame every 'tframe' seconds\n",
    "tpincub = 600  # Preincubate with inhibitor for 'tpincub' seconds\n",
    "tsub = 600     # Run with substrate for 'tsub' seconds\n",
    "\n",
    "csv_file = \"KinInhDpl.csv\" # filename of the .csv output file"
   ]
  },
  {
   "cell_type": "code",
   "execution_count": null,
   "metadata": {},
   "outputs": [],
   "source": [
    "all_plots = [] # Make a list for plotting\n",
    "for n, I0 in enumerate(Is): # We now need to loop over the Is\n",
    "    \n",
    "    concentrations = np.array([E0, ES0, P0, EI0, EIi0], dtype=np.double) # Matrix of concentrations\n",
    "    plot = [concentrations.copy()]\n",
    "\n",
    "    timeconc = concentrations\n",
    "\n",
    "    # Before addition of S (tpincub/dt steps)\n",
    "    S = 0\n",
    "    t = 0\n",
    "    for i in range(int(tpincub/dt)):\n",
    "        t+= 1\n",
    "        I = I0-(timeconc[3]+timeconc[4]) #subtract EI and EI* from I0\n",
    "                     # [         E,       ES, P,     EI, EI*]\n",
    "        t0 = np.array([[-k3*I-k1*S,  k2+kcat, 0,     k4,   0],  #E\n",
    "                       [      k1*S, -k2-kcat, 0,      0,   0],  #ES\n",
    "                       [         0,     kcat, 0,      0,   0],  #P\n",
    "                       [      k3*I,        0, 0, -k4-k5,  k6],  #EI\n",
    "                       [         0,        0, 0,     k5, -k6]]) #EI*\n",
    "        timeconc += np.dot(t0*dt, timeconc) \n",
    "\n",
    "        if (timeconc < 0).any():\n",
    "            raise ValueError(\"Got a negative concentration, try decreasing dt\")\n",
    "\n",
    "        if t % int(tframe/dt)==0:\n",
    "            print(f\"Inhibitor {n+1}/{len(Is)}, frame: {int(t / (tframe//dt))}\")\n",
    "            plot.append(timeconc.copy()) # Add the current concentrations to the list\n",
    "    \n",
    "    print(F\"Inhibitor {n+1}/{len(Is)}: Adding substrate\")\n",
    "    # After addition of S (tsub/dt steps)\n",
    "    for i in range(int(tsub/dt)):\n",
    "        t += 1\n",
    "        I = I0-(timeconc[3]+timeconc[4]) #subtract EI and EI* from I0\n",
    "        S = S0-(timeconc[1]+timeconc[2]) #Subtract ES and P from S0\n",
    "        t1 = np.array([[-k3*I-k1*S, k2+kcat, 0, k4, 0],\n",
    "                       [k1*S, -k2-kcat, 0, 0, 0],\n",
    "                       [0, kcat, 0, 0, 0],\n",
    "                       [k3*I, 0, 0, -k4-k5, k6],\n",
    "                       [0, 0, 0, k5, -k6]])\n",
    "        timeconc += np.dot(t1*dt, timeconc)\n",
    "        if (timeconc < 0).any():\n",
    "            raise ValueError(\"Got a negative concentration, try decreasing dt\")\n",
    "\n",
    "        if t % int(tframe/dt)==0:\n",
    "            print(f\"Inhibitor {n+1}/{len(Is)}, frame: {int(t / (tframe//dt))}\")\n",
    "            plot.append(timeconc.copy()) # Add the current concentrations to the list\n",
    "    all_plots.append(plot)"
   ]
  },
  {
   "cell_type": "code",
   "execution_count": null,
   "metadata": {
    "colab": {
     "base_uri": "https://localhost:8080/",
     "height": 293
    },
    "executionInfo": {
     "elapsed": 66301,
     "status": "ok",
     "timestamp": 1602495809247,
     "user": {
      "displayName": "Elma Mons",
      "photoUrl": "",
      "userId": "16900746329890233149"
     },
     "user_tz": -120
    },
    "id": "n088DHiMmxb9",
    "outputId": "f33c7369-49ea-42ae-9f0d-79537a8c6f67"
   },
   "outputs": [],
   "source": [
    "# This will make all the plots and dataframes\n",
    "dataframes = []\n",
    "fig, axes = plt.subplots(len(all_plots), 2, figsize=(12,len(all_plots)*6))\n",
    "for n, plot in enumerate(all_plots):\n",
    "    # Split the lists of concentrations into E, ES, P, EI en EI*\n",
    "    Eplot = [] \n",
    "    ESplot = []\n",
    "    Pplot = []\n",
    "    EIplot = []\n",
    "    EIiplot = []\n",
    "    EItot = []\n",
    "    \n",
    "    # Loop over all the frames and add the data to the right list\n",
    "    for frame in plot:\n",
    "        Eplot.append(frame[0])\n",
    "        ESplot.append(frame[1])\n",
    "        Pplot.append(frame[2])\n",
    "        EIplot.append(frame[3])\n",
    "        EIiplot.append(frame[4])\n",
    "        EItot.append(frame[3]+frame[4]) \n",
    "    \n",
    "    # Select 2 plots to start filling with data\n",
    "    if len(all_plots) == 1:\n",
    "        ax0 = axes[0]\n",
    "        ax1 = axes[1]\n",
    "    else:\n",
    "        ax0 = axes[n,0]\n",
    "        ax1 = axes[n,1]\n",
    "    \n",
    "    # Plot the figures\n",
    "    labels = ('E', 'ES', \"P\", \"EI\", \"EI*\", \"EI+Ei*\")\n",
    "    for i,y in enumerate((Eplot, ESplot, Pplot, EIplot, EIiplot, EItot)):\n",
    "        ax0.plot(y, label=labels[i])\n",
    "    ax0.legend()\n",
    "    for i,y in enumerate((Eplot, ESplot, Pplot, EIplot, EIiplot, EItot)):\n",
    "        ax1.plot(y, label=labels[i])\n",
    "    ax1.legend()\n",
    "    ax1.set_ylim(0, E0) # Zoom in to E0\n",
    "    ax0.set_title(\"[I] = {}\".format(str(Is[n]))) # Set title of the subplots\n",
    "    ax1.set_title(\"[I] = {}\".format(str(Is[n])))\n",
    "  \n",
    "    df = pd.DataFrame(data={'E':Eplot,  \"EI\":EIplot, \"EIi\":EIiplot, \"ES\":ESplot, \"P\":Pplot})\n",
    "    dataframes.append(df)\n",
    "    \n",
    "# Combine all the dataframes\n",
    "df = pd.concat(dataframes, keys=[I for I in Is], axis=1)"
   ]
  },
  {
   "cell_type": "code",
   "execution_count": null,
   "metadata": {
    "colab": {
     "base_uri": "https://localhost:8080/",
     "height": 293
    },
    "executionInfo": {
     "elapsed": 67390,
     "status": "ok",
     "timestamp": 1602495810346,
     "user": {
      "displayName": "Elma Mons",
      "photoUrl": "",
      "userId": "16900746329890233149"
     },
     "user_tz": -120
    },
    "id": "ZLvFMubPmzST",
    "outputId": "f899e1ac-fc23-47ef-8e1b-e2e30d1b69a3"
   },
   "outputs": [],
   "source": [
    "# Print the dataframe\n",
    "df"
   ]
  },
  {
   "cell_type": "code",
   "execution_count": null,
   "metadata": {},
   "outputs": [],
   "source": [
    "# Print the csv if you want to copy it to your clipboard\n",
    "print(df.to_csv())"
   ]
  },
  {
   "cell_type": "code",
   "execution_count": null,
   "metadata": {
    "colab": {
     "base_uri": "https://localhost:8080/",
     "height": 54
    },
    "executionInfo": {
     "elapsed": 67378,
     "status": "ok",
     "timestamp": 1602495810347,
     "user": {
      "displayName": "Elma Mons",
      "photoUrl": "",
      "userId": "16900746329890233149"
     },
     "user_tz": -120
    },
    "id": "2J7PLTM8m1sk",
    "outputId": "30e896b9-80af-48ed-e26b-d9b2d191ab10"
   },
   "outputs": [],
   "source": [
    "# Write out the csv file\n",
    "df.to_csv(csv_file)"
   ]
  },
  {
   "cell_type": "code",
   "execution_count": null,
   "metadata": {},
   "outputs": [],
   "source": [
    "from IPython.display import Markdown # Needed to generate download link\n",
    "Markdown(f'<a href=\"./{csv_file}\" download=\"{csv_file}\"> Download {csv_file} </a>') # Print download link"
   ]
  }
 ],
 "metadata": {
  "colab": {
   "collapsed_sections": [],
   "name": "ElmaIafhankelijk.ipynb",
   "provenance": [
    {
     "file_id": "1JKII4FvWGcLzyWcQdF9Of8EWapUats85",
     "timestamp": 1564389197907
    }
   ]
  },
  "kernelspec": {
   "display_name": "Python 3 (ipykernel)",
   "language": "python",
   "name": "python3"
  },
  "language_info": {
   "codemirror_mode": {
    "name": "ipython",
    "version": 3
   },
   "file_extension": ".py",
   "mimetype": "text/x-python",
   "name": "python",
   "nbconvert_exporter": "python",
   "pygments_lexer": "ipython3",
   "version": "3.9.7"
  }
 },
 "nbformat": 4,
 "nbformat_minor": 1
}
