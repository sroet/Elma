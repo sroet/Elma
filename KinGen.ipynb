{
 "cells": [
  {
   "cell_type": "code",
   "execution_count": null,
   "metadata": {
    "executionInfo": {
     "elapsed": 178,
     "status": "ok",
     "timestamp": 1632827066037,
     "user": {
      "displayName": "Elma Mons",
      "photoUrl": "https://lh3.googleusercontent.com/a/default-user=s64",
      "userId": "16900746329890233149"
     },
     "user_tz": -120
    },
    "id": "p8TP-tFIW2eS"
   },
   "outputs": [],
   "source": [
    "%matplotlib inline\n",
    "import numpy as np\n",
    "import matplotlib.pyplot as plt\n",
    "import pandas as pd"
   ]
  },
  {
   "cell_type": "code",
   "execution_count": null,
   "metadata": {
    "executionInfo": {
     "elapsed": 2,
     "status": "ok",
     "timestamp": 1632827066237,
     "user": {
      "displayName": "Elma Mons",
      "photoUrl": "https://lh3.googleusercontent.com/a/default-user=s64",
      "userId": "16900746329890233149"
     },
     "user_tz": -120
    },
    "id": "rBeV5ETCW8Q2"
   },
   "outputs": [],
   "source": [
    "# Define values for rate constants (k)\n",
    "k1 = 100000000     # rate constant for E + S --> ES\n",
    "k2 = 100           # rate constant for ES --> E + S\n",
    "k3 = 100000000     # rate constant for E + I --> EI (non-covalent)\n",
    "k4 = 10            # rate constant for EI (non-covalent) --> E + I\n",
    "k5 = 0.001         # rate constant for EI (non-covalent) --> EI* (covalent)\n",
    "k6 = 0             # rate constant for EI* (covalent) --> EI (non-covalent)\n",
    "kcat = 1           # rate constant for ES --> E + P\n",
    "\n",
    "# Define concentrations at start of measurement t=0 (before addition of inhibitor or substrate)\n",
    "# (These values are not assumed to be constant during the simulation)\n",
    "\n",
    "E0 = 1*10**-12  # Unbound enzyme concentration E\n",
    "ES0 = 0         # Non-covalent enzyme-substrate complex ES\n",
    "P0 = 0          # Product\n",
    "EI0 = 0         # Non-covalent enzyme-inhibitor complex EI\n",
    "EIi0 = 0        # Covalent enzyme-inhibitor complex EI* \n",
    "\n",
    "# Define assay constants\n",
    "# (These values are assumed to be constant during the simulation)\n",
    "Is = [1*10**-6, 0.5*10**-6, 0.25*10**-6, 0.15*10**-6, 0.075*10**-6, 0.04*10**-6, 0.02*10**-6, 10*10**-9, 0*10**-9] # List of inhibitor concentrations. Can only be assumed constant if inhibitor concentration is >10*E0.\n",
    "S0 = 100*10**-9  # Substrate concentration. This is assumed to be constant, which is only true if substrate conversion is less than 10%.\n",
    "dt = 0.001       # Seconds per simulation step (dt). Maximum value for dt defined by k1*S0*dt < 1 and k3*I0*dt < 1\n",
    "\n",
    "tframe = 60    # Save a frame every 'tframe' seconds\n",
    "tpincub = 600  # Preincubate with inhibitor for 'tpincub' seconds\n",
    "tsub = 600     # Run with substrate for 'tsub' seconds\n",
    "\n",
    "csv_file = \"KinGen.csv\" # filename of the .csv output file"
   ]
  },
  {
   "cell_type": "code",
   "execution_count": null,
   "metadata": {
    "executionInfo": {
     "elapsed": 35864,
     "status": "ok",
     "timestamp": 1632827102338,
     "user": {
      "displayName": "Elma Mons",
      "photoUrl": "https://lh3.googleusercontent.com/a/default-user=s64",
      "userId": "16900746329890233149"
     },
     "user_tz": -120
    },
    "id": "1J9xe0fBXFLT"
   },
   "outputs": [],
   "source": [
    "all_conc = []\n",
    "all_t0 = []\n",
    "all_t1 = []\n",
    "for I in Is: # Loop over all I's\n",
    "    all_conc.append(np.array([E0, ES0, P0, EI0, EIi0], dtype=np.double)) # Matrix of concentrations\n",
    "    # Before addition of of S\n",
    "\n",
    "    S=0  # No S in the system\n",
    "        \n",
    "                          # [         E,       ES, P,     EI, EI*]\n",
    "    all_t0.append(np.array([[-k3*I-k1*S,  k2+kcat, 0,     k4,   0],  # E\n",
    "                            [      k1*S, -k2-kcat, 0,      0,   0],  # ES\n",
    "                            [         0,     kcat, 0,      0,   0],  # P\n",
    "                            [      k3*I,        0, 0, -k4-k5,  k6],  # EI\n",
    "                            [         0,        0, 0,     k5, -k6]]  # EI*\n",
    "                          ).T) \n",
    "\n",
    "    # Change in E   = [E]*(-k3*I-k1*S) + [ES]*(k2+kcat)  + [P]*(0) + [EI]*(k4)     + [EI*]*(0)\n",
    "    # Change in ES  = [E]*(k1*S)       + [ES]*(-k2-kcat) + [P]*(0) + [EI]*(0)      + [EI*]*(0)\n",
    "    # Change in P   = [E]*(0)          + [ES]*(kcat)     + [P]*(0) + [EI]*(0)      + [EI*]*(0)\n",
    "    # Change in EI  = [E]*(k3*I)       + [ES]*(0)        + [P]*(0) + [EI]*(-k4-k5) + [EI*]*(k6)\n",
    "    # Change in EI* = [E]*(0)          + [ES]*(0)        + [P]*(0) + [EI]*(k5)     + [EI*]*(-k6)\n",
    "\n",
    "\n",
    "    # After addition of S\n",
    "    S = S0 # Now S is S0 (and assumed to be constant)\n",
    "    all_t1.append(np.array([[-k3*I-k1*S, k2+kcat, 0, k4, 0],\n",
    "                            [k1*S, -k2-kcat, 0, 0, 0],\n",
    "                            [0, kcat, 0, 0, 0],\n",
    "                            [k3*I, 0, 0, -k4-k5, k6],\n",
    "                            [0, 0, 0, k5, -k6]]).T)\n",
    "\n",
    "# Make a list of copies of the start concentrations for each inhibitor concentration\n",
    "concentrations = np.stack(all_conc)  \n",
    "t0 = np.stack(all_t0)\n",
    "t1 = np.stack(all_t1)                \n",
    "plot = [concentrations.copy()] # Make a list for plotting\n",
    "\n",
    "timeconc = concentrations.copy()\n",
    "t = 0\n",
    "# Before addition of S (tpincub/dt steps)\n",
    "for i in range(int(tpincub/dt)):\n",
    "    t+= 1\n",
    "    timeconc += np.dot(timeconc, t0*dt).diagonal().T\n",
    "    \n",
    "    if (timeconc < 0).any():\n",
    "        raise ValueError(\"Got a negative concentration, try decreasing dt\")\n",
    "\n",
    "    if t % int(tframe/dt)==0:\n",
    "        print(f\"frame: {int(t / (tframe//dt))}\")\n",
    "        plot.append(timeconc.copy()) # Add the current concentrations to the list\n",
    "\n",
    "print(\"Adding substrate\")\n",
    "# After addition of S (tsub/dt steps)\n",
    "for i in range(int(tsub/dt)):\n",
    "    t += 1\n",
    "    timeconc += np.dot(timeconc, t1*dt).diagonal().T   \n",
    "    if (timeconc < 0).any():\n",
    "        raise ValueError(\"Got a negative concentration, try decreasing dt\")\n",
    "\n",
    "    if t % int(tframe/dt)==0:\n",
    "        print(f\"frame: {int(t / (tframe//dt))}\")\n",
    "        plot.append(timeconc.copy()) # Add the current concentrations to the list"
   ]
  },
  {
   "cell_type": "code",
   "execution_count": null,
   "metadata": {
    "executionInfo": {
     "elapsed": 14,
     "status": "ok",
     "timestamp": 1632827102340,
     "user": {
      "displayName": "Elma Mons",
      "photoUrl": "https://lh3.googleusercontent.com/a/default-user=s64",
      "userId": "16900746329890233149"
     },
     "user_tz": -120
    },
    "id": "rZ-T9MbfXJtK"
   },
   "outputs": [],
   "source": [
    "all_plots = np.array(plot).swapaxes(0,1)  # Swap data axis 0 and axis 1"
   ]
  },
  {
   "cell_type": "code",
   "execution_count": null,
   "metadata": {
    "colab": {
     "base_uri": "https://localhost:8080/",
     "height": 1000
    },
    "executionInfo": {
     "elapsed": 5576,
     "status": "ok",
     "timestamp": 1632827107904,
     "user": {
      "displayName": "Elma Mons",
      "photoUrl": "https://lh3.googleusercontent.com/a/default-user=s64",
      "userId": "16900746329890233149"
     },
     "user_tz": -120
    },
    "id": "ANUV7F_oXyM9",
    "outputId": "e3d95741-c3cd-45d7-b16d-900758942d99"
   },
   "outputs": [],
   "source": [
    "# This will make all the plots and dataframes\n",
    "dataframes = []\n",
    "fig, axes = plt.subplots(len(all_plots), 2, figsize=(12,len(all_plots)*6))\n",
    "for n, plot in enumerate(all_plots):\n",
    "    # Split the lists of concentrations into E, ES, P, EI en EI*\n",
    "    Eplot = [] \n",
    "    ESplot = []\n",
    "    Pplot = []\n",
    "    EIplot = []\n",
    "    EIiplot = []\n",
    "    EItot = []\n",
    "    \n",
    "    # Loop over all the frames and add the data to the right list\n",
    "    for frame in plot:\n",
    "        Eplot.append(frame[0])\n",
    "        ESplot.append(frame[1])\n",
    "        Pplot.append(frame[2])\n",
    "        EIplot.append(frame[3])\n",
    "        EIiplot.append(frame[4])\n",
    "        EItot.append(frame[3]+frame[4]) \n",
    "    \n",
    "    # Select 2 plots to start filling with data\n",
    "    if len(all_plots) == 1:\n",
    "        ax0 = axes[0]\n",
    "        ax1 = axes[1]\n",
    "    else:\n",
    "        ax0 = axes[n,0]\n",
    "        ax1 = axes[n,1]\n",
    "    # Plot the figures\n",
    "    labels = ('E', 'ES', \"P\", \"EI\", \"EI*\", \"EI+Ei*\")\n",
    "    for i,y in enumerate((Eplot, ESplot, Pplot, EIplot, EIiplot, EItot)):\n",
    "        ax0.plot(y, label=labels[i])\n",
    "    ax0.legend()\n",
    "    for i,y in enumerate((Eplot, ESplot, Pplot, EIplot, EIiplot, EItot)):\n",
    "        ax1.plot(y, label=labels[i])\n",
    "    ax1.legend()\n",
    "    ax1.set_ylim(0, E0) # Zoom in to E0\n",
    "    ax0.set_title(\"[I] = {}\".format(str(Is[n]))) # Set title of the subplots\n",
    "    ax1.set_title(\"[I] = {}\".format(str(Is[n])))\n",
    "  \n",
    "    df = pd.DataFrame(data={'E':Eplot,  \"EI\":EIplot, \"EIi\":EIiplot, \"ES\":ESplot, \"P\":Pplot})\n",
    "    dataframes.append(df)\n",
    "    \n",
    "# Combine all the dataframes\n",
    "df = pd.concat(dataframes, keys=[I for I in Is], axis=1)"
   ]
  },
  {
   "cell_type": "code",
   "execution_count": null,
   "metadata": {
    "colab": {
     "base_uri": "https://localhost:8080/",
     "height": 1000
    },
    "executionInfo": {
     "elapsed": 511,
     "status": "ok",
     "timestamp": 1632827108411,
     "user": {
      "displayName": "Elma Mons",
      "photoUrl": "https://lh3.googleusercontent.com/a/default-user=s64",
      "userId": "16900746329890233149"
     },
     "user_tz": -120
    },
    "id": "zZqzuEZoX2XO",
    "outputId": "fee4fa1d-5876-4de3-f776-c6777a07dfdf"
   },
   "outputs": [],
   "source": [
    "# Print the dataframe\n",
    "df"
   ]
  },
  {
   "cell_type": "code",
   "execution_count": null,
   "metadata": {
    "colab": {
     "base_uri": "https://localhost:8080/"
    },
    "executionInfo": {
     "elapsed": 12,
     "status": "ok",
     "timestamp": 1632827108416,
     "user": {
      "displayName": "Elma Mons",
      "photoUrl": "https://lh3.googleusercontent.com/a/default-user=s64",
      "userId": "16900746329890233149"
     },
     "user_tz": -120
    },
    "id": "sqx18yIuX8C3",
    "outputId": "de4aad25-01e5-4f37-cb17-ff0589bd5552"
   },
   "outputs": [],
   "source": [
    "# Print the csv if you want to copy it to your clipboard\n",
    "print(df.to_csv())"
   ]
  },
  {
   "cell_type": "code",
   "execution_count": null,
   "metadata": {},
   "outputs": [],
   "source": [
    "# Write out the csv file\n",
    "df.to_csv(csv_file)\n"
   ]
  },
  {
   "cell_type": "code",
   "execution_count": null,
   "metadata": {},
   "outputs": [],
   "source": [
    "from IPython.display import Markdown # Needed to generate download link\n",
    "Markdown(f'<a href=\"./{csv_file}\" download=\"{csv_file}\"> Download {csv_file} </a>') # Generate download link"
   ]
  }
 ],
 "metadata": {
  "colab": {
   "collapsed_sections": [],
   "name": "elma3.ipynb",
   "provenance": []
  },
  "kernelspec": {
   "display_name": "Python 3 (ipykernel)",
   "language": "python",
   "name": "python3"
  },
  "language_info": {
   "codemirror_mode": {
    "name": "ipython",
    "version": 3
   },
   "file_extension": ".py",
   "mimetype": "text/x-python",
   "name": "python",
   "nbconvert_exporter": "python",
   "pygments_lexer": "ipython3",
   "version": "3.9.7"
  }
 },
 "nbformat": 4,
 "nbformat_minor": 1
}
