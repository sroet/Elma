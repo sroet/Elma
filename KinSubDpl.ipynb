{
 "cells": [
  {
   "cell_type": "code",
   "execution_count": null,
   "metadata": {
    "executionInfo": {
     "elapsed": 3,
     "status": "ok",
     "timestamp": 1628779659440,
     "user": {
      "displayName": "Elma Mons",
      "photoUrl": "",
      "userId": "16900746329890233149"
     },
     "user_tz": -120
    },
    "id": "XK-hEviKmDwx"
   },
   "outputs": [],
   "source": [
    "%matplotlib inline\n",
    "import numpy as np\n",
    "import matplotlib.pyplot as plt\n",
    "import pandas as pd"
   ]
  },
  {
   "cell_type": "code",
   "execution_count": null,
   "metadata": {
    "executionInfo": {
     "elapsed": 3,
     "status": "ok",
     "timestamp": 1628779659441,
     "user": {
      "displayName": "Elma Mons",
      "photoUrl": "",
      "userId": "16900746329890233149"
     },
     "user_tz": -120
    },
    "id": "bWFwt03NmL8M"
   },
   "outputs": [],
   "source": [
    "# Define values for rate constants (k)\n",
    "k1 = 100000000     # kon for E + S to ES\n",
    "k2 = 100           # koff for ES to E + S\n",
    "k3 = 100000000     # kon for E + I to non-covalent EI\n",
    "k4 = 10            # koff for EI to E + I\n",
    "k5 = 0.001         # kon for EI to covalent EI*\n",
    "k6 = 0             # koff for covalent EI* to non-covalent EI\n",
    "kcat = 1           # kon ES to E+P\n",
    "\n",
    "# Define concentrations at start of measurement t=0 (before addition of inhibitor or substrate)\n",
    "E0 = 1*10**-12  # Unbound enzyme concentration E\n",
    "ES0 = 0         # Non-covalent enzyme-substrate complex ES\n",
    "P0 = 0          # Product\n",
    "EI0 = 0         # Non-covalent enzyme-inhibitor complex EI\n",
    "EIi0 = 0        # Covalent enzyme-inhibitor complex (EI*) \n",
    "\n",
    "# Define assay constants\n",
    "# List of inhibitor concentrations. These are assumed to stay constant \n",
    "Is = [1*10**-6, 0.5*10**-6, 0.25*10**-6, 0.15*10**-6, 0.075*10**-6, 0.04*10**-6, 0.02*10**-6, 10*10**-9, 5*10**-9, 2.5*10**-9, 1.0*10**-9, 0*10**-9] \n",
    "S0 = 100*10**-9  # Substrate concentration.\n",
    "dt = 0.001       # Seconds per simulation step (dt). Maximum value for dt defined by k1*S0*dt < 1 and k3*I0*dt < 1\n",
    "\n",
    "tframe = 60    # Save a frame every 'tframe' seconds\n",
    "tpincub = 600  # Preincubate with inhibitor for 'tpincub' seconds\n",
    "tsub = 600     # Run with substrate for 'tsub' seconds\n",
    "\n",
    "csv_file = \"KinSubDpl.csv\" # filename of the .csv output file"
   ]
  },
  {
   "cell_type": "code",
   "execution_count": null,
   "metadata": {
    "executionInfo": {
     "elapsed": 2118748,
     "status": "ok",
     "timestamp": 1628781778472,
     "user": {
      "displayName": "Elma Mons",
      "photoUrl": "",
      "userId": "16900746329890233149"
     },
     "user_tz": -120
    },
    "id": "jAhsl7bJmaoX"
   },
   "outputs": [],
   "source": [
    "all_plots = [] # Make a list for plotting\n",
    "for n, I in enumerate(Is): # We now need to loop over the Is\n",
    "    \n",
    "    concentrations = np.array([E0, ES0, P0, EI0, EIi0], dtype=np.double) # Matrix of concentrations\n",
    "    plot = [concentrations.copy()]\n",
    "\n",
    "    timeconc = concentrations\n",
    "\n",
    "    # Before addition of S (tpincub/dt steps)\n",
    "    S = 0\n",
    "    t = 0\n",
    "                 # [         E,       ES, P,     EI, EI*]\n",
    "    t0 = np.array([[-k3*I-k1*S,  k2+kcat, 0,     k4,   0],  #E\n",
    "                   [      k1*S, -k2-kcat, 0,      0,   0],  #ES\n",
    "                   [         0,     kcat, 0,      0,   0],  #P\n",
    "                   [      k3*I,        0, 0, -k4-k5,  k6],  #EI\n",
    "                   [         0,        0, 0,     k5, -k6]]) #EI*\n",
    "    \n",
    "    for i in range(int(tpincub/dt)):\n",
    "        t+= 1\n",
    "        timeconc += np.dot(t0*dt, timeconc) \n",
    "\n",
    "        if (timeconc < 0).any():\n",
    "            raise ValueError(\"Got a negative concentration, try decreasing dt\")\n",
    "\n",
    "        if t % int(tframe/dt)==0:\n",
    "            print(f\"Inhibitor {n+1}/{len(Is)}, frame: {int(t / (tframe//dt))}\")\n",
    "            plot.append(timeconc.copy()) # Add the current concentrations to the list\n",
    "    \n",
    "    print(F\"Inhibitor {n+1}/{len(Is)}: Adding substrate\")\n",
    "    # After addition of S (tsub/dt steps)\n",
    "    for i in range(int(tsub/dt)):\n",
    "        t += 1\n",
    "        S = S0-(timeconc[1]+timeconc[2]) #Subtract ES and P from S0\n",
    "        t1 = np.array([[-k3*I-k1*S, k2+kcat, 0, k4, 0],\n",
    "                       [k1*S, -k2-kcat, 0, 0, 0],\n",
    "                       [0, kcat, 0, 0, 0],\n",
    "                       [k3*I, 0, 0, -k4-k5, k6],\n",
    "                       [0, 0, 0, k5, -k6]])\n",
    "        timeconc += np.dot(t1*dt, timeconc)\n",
    "        if (timeconc < 0).any():\n",
    "            raise ValueError(\"Got a negative concentration, try decreasing dt\")\n",
    "\n",
    "        if t % int(tframe/dt)==0:\n",
    "            print(f\"Inhibitor {n+1}/{len(Is)}, frame: {int(t / (tframe//dt))}\")\n",
    "            plot.append(timeconc.copy()) # Add the current concentrations to the list\n",
    "    all_plots.append(plot)"
   ]
  },
  {
   "cell_type": "code",
   "execution_count": null,
   "metadata": {
    "colab": {
     "base_uri": "https://localhost:8080/",
     "height": 1000
    },
    "executionInfo": {
     "elapsed": 6225,
     "status": "ok",
     "timestamp": 1628781784683,
     "user": {
      "displayName": "Elma Mons",
      "photoUrl": "",
      "userId": "16900746329890233149"
     },
     "user_tz": -120
    },
    "id": "KhZSc4yUmuzG",
    "outputId": "50faa841-ae5a-4864-c565-5662164f2708"
   },
   "outputs": [],
   "source": [
    "# This will make all the plots and dataframes\n",
    "dataframes = []\n",
    "fig, axes = plt.subplots(len(all_plots), 2, figsize=(12,len(all_plots)*6))\n",
    "for n, plot in enumerate(all_plots):\n",
    "    # Split the lists of concentrations into E, ES, P, EI en EI*\n",
    "    Eplot = [] \n",
    "    ESplot = []\n",
    "    Pplot = []\n",
    "    EIplot = []\n",
    "    EIiplot = []\n",
    "    EItot = []\n",
    "    \n",
    "    # Loop over all the frames and add the data to the right list\n",
    "    for frame in plot:\n",
    "        Eplot.append(frame[0])\n",
    "        ESplot.append(frame[1])\n",
    "        Pplot.append(frame[2])\n",
    "        EIplot.append(frame[3])\n",
    "        EIiplot.append(frame[4])\n",
    "        EItot.append(frame[3]+frame[4]) \n",
    "    \n",
    "    # Select 2 plots to start filling with data\n",
    "    if len(all_plots) == 1:\n",
    "        ax0 = axes[0]\n",
    "        ax1 = axes[1]\n",
    "    else:\n",
    "        ax0 = axes[n,0]\n",
    "        ax1 = axes[n,1]\n",
    "    # Plot the figures\n",
    "    labels = ('E', 'ES', \"P\", \"EI\", \"EI*\", \"EI+Ei*\")\n",
    "    for i,y in enumerate((Eplot, ESplot, Pplot, EIplot, EIiplot, EItot)):\n",
    "        ax0.plot(y, label=labels[i])\n",
    "    ax0.legend()\n",
    "    for i,y in enumerate((Eplot, ESplot, Pplot, EIplot, EIiplot, EItot)):\n",
    "        ax1.plot(y, label=labels[i])\n",
    "    ax1.legend()\n",
    "    ax1.set_ylim(0, E0) # Zoom in to E0\n",
    "    ax0.set_title(\"[I] = {}\".format(str(Is[n]))) # Set title of the subplots\n",
    "    ax1.set_title(\"[I] = {}\".format(str(Is[n])))\n",
    "  \n",
    "    df = pd.DataFrame(data={'E':Eplot,  \"EI\":EIplot, \"EIi\":EIiplot, \"ES\":ESplot, \"P\":Pplot})\n",
    "    dataframes.append(df)\n",
    "    \n",
    "# Combine all the dataframes\n",
    "df = pd.concat(dataframes, keys=[I for I in Is], axis=1)"
   ]
  },
  {
   "cell_type": "code",
   "execution_count": null,
   "metadata": {
    "colab": {
     "base_uri": "https://localhost:8080/",
     "height": 0
    },
    "executionInfo": {
     "elapsed": 671,
     "status": "ok",
     "timestamp": 1628781785348,
     "user": {
      "displayName": "Elma Mons",
      "photoUrl": "",
      "userId": "16900746329890233149"
     },
     "user_tz": -120
    },
    "id": "2J7PLTM8m1sk",
    "outputId": "c7859f46-e99b-4ed1-be56-daba82eb3104"
   },
   "outputs": [],
   "source": [
    "# Print the dataframe\n",
    "df"
   ]
  },
  {
   "cell_type": "code",
   "execution_count": null,
   "metadata": {
    "colab": {
     "base_uri": "https://localhost:8080/"
    },
    "executionInfo": {
     "elapsed": 37,
     "status": "ok",
     "timestamp": 1628781785351,
     "user": {
      "displayName": "Elma Mons",
      "photoUrl": "",
      "userId": "16900746329890233149"
     },
     "user_tz": -120
    },
    "id": "2cQMh2aUm601",
    "outputId": "73409c58-6f3e-45f9-c4da-12bbfdb3b764"
   },
   "outputs": [],
   "source": [
    "print(df.to_csv())"
   ]
  },
  {
   "cell_type": "code",
   "execution_count": null,
   "metadata": {
    "executionInfo": {
     "elapsed": 18,
     "status": "ok",
     "timestamp": 1628781785352,
     "user": {
      "displayName": "Elma Mons",
      "photoUrl": "",
      "userId": "16900746329890233149"
     },
     "user_tz": -120
    },
    "id": "0lXR_JE9m9Be"
   },
   "outputs": [],
   "source": [
    "# Write out the csv file\n",
    "df.to_csv(csv_file)"
   ]
  }
 ],
 "metadata": {
  "colab": {
   "collapsed_sections": [],
   "name": "ElmaSafhankelijkMoreI.ipynb",
   "provenance": [
    {
     "file_id": "1JKII4FvWGcLzyWcQdF9Of8EWapUats85",
     "timestamp": 1567498740981
    }
   ]
  },
  "kernelspec": {
   "display_name": "Python 3 (ipykernel)",
   "language": "python",
   "name": "python3"
  },
  "language_info": {
   "codemirror_mode": {
    "name": "ipython",
    "version": 3
   },
   "file_extension": ".py",
   "mimetype": "text/x-python",
   "name": "python",
   "nbconvert_exporter": "python",
   "pygments_lexer": "ipython3",
   "version": "3.9.7"
  }
 },
 "nbformat": 4,
 "nbformat_minor": 1
}
