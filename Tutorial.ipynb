{
 "cells": [
  {
   "cell_type": "markdown",
   "id": "a0125b1f",
   "metadata": {},
   "source": [
    "## Getting Started\n",
    "\n",
    "The document you are reading is a  [Jupyter notebook](https://jupyter.org/), provided by [binder](https://mybinder.org) and running on [Google Cloud](https://cloud.google.com). It is not a static page, but an interactive environment that lets you write and execute code in Python and other languages. We will be using this for the distribution of the simulation scripts.\n",
    "\n",
    "\n",
    "All scripts start with the following code cell that imports all the python packages that we use:"
   ]
  },
  {
   "cell_type": "code",
   "execution_count": null,
   "id": "c6c39653",
   "metadata": {},
   "outputs": [],
   "source": [
    "%matplotlib inline\n",
    "import numpy as np  # Used to do the numerical integration\n",
    "import matplotlib.pyplot as plt # Used to make the plots\n",
    "import pandas as pd  # Used to store the data and write the .csv file"
   ]
  },
  {
   "cell_type": "markdown",
   "id": "b2a8d91f",
   "metadata": {},
   "source": [
    "This cell is then followed by a cell that let's you configure your simulation setup by defining the values (the <font color='green'>green</font> numbers)"
   ]
  },
  {
   "cell_type": "code",
   "execution_count": null,
   "id": "0f32e2a8",
   "metadata": {},
   "outputs": [],
   "source": [
    "# Define values for rate constants (k)\n",
    "k1 = 100000000     # rate constant for E + S --> ES\n",
    "k2 = 100           # rate constant for ES --> E + S\n",
    "k3 = 100000000     # rate constant for E + I --> EI (non-covalent)\n",
    "k4 = 10            # rate constant for EI (non-covalent) --> E + I\n",
    "k5 = 0.001         # rate constant for EI (non-covalent) --> EI* (covalent)\n",
    "k6 = 0             # rate constant for EI* (covalent) --> EI (non-covalent)\n",
    "kcat = 1           # rate constant for ES --> E + P\n",
    "\n",
    "# Define concentrations at start of measurement t=0 (before addition of inhibitor or substrate)\n",
    "# (These values are not assumed to be constant during the simulation)\n",
    "\n",
    "E0 = 1*10**-12  # Unbound enzyme concentration E\n",
    "ES0 = 0         # Non-covalent enzyme-substrate complex ES\n",
    "P0 = 0          # Product\n",
    "EI0 = 0         # Non-covalent enzyme-inhibitor complex EI\n",
    "EIi0 = 0        # Covalent enzyme-inhibitor complex EI* \n",
    "\n",
    "# Define assay constants\n",
    "# (These values are assumed to be constant during the simulation)\n",
    "Is = [1*10**-6, 0.5*10**-6, 0.25*10**-6, 0.15*10**-6, 0.075*10**-6, 0.04*10**-6, 0.02*10**-6, 10*10**-9, 0*10**-9] # List of inhibitor concentrations. Can only be assumed constant if inhibitor concentration is >10*E0.\n",
    "S0 = 100*10**-9  # Substrate concentration. This is assumed to be constant, which is only true if substrate conversion is less than 10%.\n",
    "\n",
    "tpincub = 600  # Preincubate with inhibitor for 'tpincub' seconds\n",
    "tsub = 600     # Run with substrate for 'tsub' seconds\n",
    "\n",
    "dt = 0.001     # Seconds per simulation step (dt). Maximum value for dt defined by k1*S0*dt < 1 and k3*I0*dt < 1\n",
    "tframe = 60    # Save a frame every 'tframe' seconds\n",
    "\n",
    "csv_file = \"Tutorial.csv\" # filename of the .csv output file"
   ]
  },
  {
   "cell_type": "markdown",
   "id": "4e0e2003",
   "metadata": {},
   "source": [
    "After you have filled in your numbers the only thing you have to do is to click the <i class=\"fa fa-forward\" aria-hidden=\"true\"></i> at the top (or `Kernel -> Restart Kernel and Run All`) and click the red \"Restart\" button. The script will then run all the code, outputs the figures and writes the `.csv` file with your data points. \n",
    "\n",
    "**Note:** As this is run on binder with donated infrastructure, this can take a while to run (the unaltered [KinGen](KinGen.ipynb) script took about 2-5 minutes when we tested it). You can see if the code is still running by the circle in the top right. If it is filled in (<i class=\"fa fa-circle\" aria-hidden=\"true\"></i>) the code is still running and open  (<i class=\"fa fa-circle-o\" aria-hidden=\"true\"></i>) means that the code has completed (or is stopped).\n",
    "\n",
    "The code cells under the one with the inputs are the actual code that runs the simulations, if you are interested you should definetly also have a look at that."
   ]
  },
  {
   "cell_type": "markdown",
   "id": "ac679614",
   "metadata": {},
   "source": [
    "## Saving your work\n",
    "\n",
    "Due to hosting this through Binder on donated infrastructure, any changes that you make to the notebooks or filesystem will not be stored when you close all the browser windows, or when you are inactive for a long period of time (like when running long simulations).\n",
    "\n",
    "\n",
    "If you want to keep your alterations of the notebooks or the `.csv` files you created, you should download them to your local machine. This can be done for individual notebook by clicking the <i class=\"fa fa-download\" aria-hidden=\"true\"></i>` Download` button at the top. \n",
    "\n",
    "To download your `.csv` files, you can click on the link that is generated at the end of the notebook after running it. Another option is to click <i class=\"fa fa-folder\" aria-hidden=\"true\"></i> in the top left (or press Ctrl+Shift+F) to open up the file browser. There you can see all files, which can by downloaded by right-clicking and selecting <i class=\"fa fa-download\" aria-hidden=\"true\"></i>` Download` \n",
    "\n",
    "From the file selection tab you can also upload your own notebooks if you want by clicking on the <i class=\"fa fa-upload\" aria-hidden=\"true\"></i> button\n",
    "\n",
    "**Note:** If you do not want to download/upload your personal copy every time you start the binder we advice you to download the notebooks and upload them to [Google Colaboratory](https://colab.research.google.com) which saves them to your Google Drive and allows you to share your personal copies with colleagues as you would with a Google Doc."
   ]
  },
  {
   "cell_type": "markdown",
   "id": "2bec3095",
   "metadata": {},
   "source": [
    "## Importing csv files into Excel\n",
    "\n",
    "You can import your `.csv` (comma-separated-values) file into Excel, by just loading it. However, in some geographical regions the comma `,` is used as the decimal separator instead of a period `.`. If this is the case,  excel will not correctly load in the csv file directly and will instead just fill a single column with your values.\n",
    "\n",
    "To solve this:\n",
    "- select the single column with all the data\n",
    "- go to `Data -> Text to Columns` \n",
    "- select `Delimited` and press `Next`\n",
    "- check the `Comma` box in the `Delimiters` list, uncheck any other boxes, and press `Next`\n",
    "- press `Finish`\n",
    "\n",
    "That should split your data into the correct columns."
   ]
  },
  {
   "cell_type": "markdown",
   "id": "4898b8c0",
   "metadata": {},
   "source": [
    "That should be it, you should now be able to run your own simulations. Have fun! \n",
    "You can now go back to the landing page by selecting it in the file browser (<i class=\"fa fa-folder\" aria-hidden=\"true\"></i> in the top left or Ctrl+Shift+F) or by clicking [here](Landing%20Page.ipynb)"
   ]
  }
 ],
 "metadata": {
  "kernelspec": {
   "display_name": "Python 3 (ipykernel)",
   "language": "python",
   "name": "python3"
  },
  "language_info": {
   "codemirror_mode": {
    "name": "ipython",
    "version": 3
   },
   "file_extension": ".py",
   "mimetype": "text/x-python",
   "name": "python",
   "nbconvert_exporter": "python",
   "pygments_lexer": "ipython3",
   "version": "3.9.7"
  }
 },
 "nbformat": 4,
 "nbformat_minor": 5
}
