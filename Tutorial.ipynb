{
 "cells": [
  {
   "cell_type": "markdown",
   "id": "a0125b1f",
   "metadata": {},
   "source": [
    "## Getting Started\n",
    "\n",
    "The document you are reading is a  [Jupyter notebook](https://jupyter.org/), provided by [binder](https://mybinder.org) and running on [Google Cloud](https://cloud.google.com). It is not a static page, but an interactive environment that lets you write and execute code in Python and other languages. We will be using this for the distribution of the simulation scripts.\n",
    "\n",
    "\n",
    "All scripts start with the following code cell that imports all the python packages that we use:"
   ]
  },
  {
   "cell_type": "code",
   "execution_count": null,
   "id": "c6c39653",
   "metadata": {},
   "outputs": [],
   "source": [
    "%matplotlib inline\n",
    "import numpy as np  # Used to do the numerical integration\n",
    "import matplotlib.pyplot as plt # Used to make the plots\n",
    "import pandas as pd  # Used to store the data and write the .csv file"
   ]
  },
  {
   "cell_type": "markdown",
   "id": "b2a8d91f",
   "metadata": {},
   "source": [
    "This cell is then followed by a cell that let's you configure your simulation setup by filling in the numbers"
   ]
  },
  {
   "cell_type": "code",
   "execution_count": null,
   "id": "0f32e2a8",
   "metadata": {},
   "outputs": [],
   "source": [
    "# Define values for rate constants (k)\n",
    "k1 = 100000000       # kon for E + S to ES\n",
    "k2 = 100             # koff for ES to E + S\n",
    "k3 = 100000000       # kon for E + I to non-covalent EI\n",
    "k4 = 10              # koff for EI to E + I\n",
    "k5 = 0.001           # kon for EI to covalent EI*\n",
    "k6 = 0               # koff for covalent EI* to non-covalent EI\n",
    "kcat = 1             # kon ES to E+P\n",
    "\n",
    "# Define concentrations at start of measurement t=0 (before addition of inhibitor or substrate)\n",
    "# (These are not assumed to be constant during the simulation)\n",
    "E0 = 1*10**-12          #Unbound enzyme concentration E\n",
    "ES0 = 0                 #Noncovalent enzyme-substrate complex ES\n",
    "P0 = 0                  #Product\n",
    "EI0 = 0                 #Non-covalent enzyme-inhibitor complex EI\n",
    "EIi0 = 0                #Covalent enzyme-inhibitor complex (EI*) \n",
    "\n",
    "#Define assay constants\n",
    "# (These are assumed to be constant during the simulation)\n",
    "# List of inhibitor concentrations. These are assumed to be constant, which is only true if inhibitor concentration is >10*E0.\n",
    "Is = [1*10**-6, 0.5*10**-6, 0.25*10**-6, 0.15*10**-6, 0.075*10**-6, 0.04*10**-6, 0.02*10**-6, 10*10**-9, 5*10**-9, 2.5*10**-9, 1.0*10**-9, 0*10**-9] \n",
    "S0 = 100*10**-9 # Substrate concentration. This is assumed to be constant, which is only true if substrate conversion is less than 10%\n",
    "dt = 0.001 # Seconds per simulation step (dt). Maximum value for dt defined by k1*S0*dt < 1 and k3*I0*dt < 1\n",
    "\n",
    "tframe = 60   # Save a frame every 'tframe' seconds\n",
    "tpincub = 600 # Preincubate with inhibitor for 'tpincub' seconds\n",
    "tsub = 600    # Run with substrate for 'tsub' seconds\n",
    "\n",
    "csv_file = \"KinGen.csv\" # Save name of the output .csv"
   ]
  },
  {
   "cell_type": "markdown",
   "id": "4e0e2003",
   "metadata": {},
   "source": [
    "After you have filled in your numbers the only thing you have to do is to click the <i class=\"fa fa-forward\" aria-hidden=\"true\"></i> at the top (or `Kernel -> Restart Kernel and Run All`) and click the red \"Restart\" button. The script will then run all the code, outputs the figures and writes the `.csv` file with your data points. \n",
    "\n",
    "The code cells under the one with the inputs are the actual code that runs the simulations, if you are interested you should definetly also have a look at that."
   ]
  },
  {
   "cell_type": "markdown",
   "id": "ac679614",
   "metadata": {},
   "source": [
    "## Saving your work\n",
    "\n",
    "Due to hosting this through Binder on donated infrastructure, any changes that you make to the notebooks or filesystem will not be stored when you close all the browser windows, or when you are inactive for a long period of time (like when running long simulations).\n",
    "\n",
    "\n",
    "If you want to keep your alterations of the notebooks or the `.csv` files you created, you should download them to your local machine. This can be done for individual notebook by clicking the <i class=\"fa fa-download\" aria-hidden=\"true\"></i>` Download` button at the top. \n",
    "\n",
    "To download your `.csv` files, you can click on the <i class=\"fa fa-folder\" aria-hidden=\"true\"></i> in the top left (or press Ctrl+Shift+F) to open up the file browser. There you can see all files, which can by downloaded by right-clicking and selecting <i class=\"fa fa-download\" aria-hidden=\"true\"></i>` Download` \n",
    "\n",
    "From the file selection tab you can also upload your own notebooks if you want by clicking on the <i class=\"fa fa-upload\" aria-hidden=\"true\"></i> button\n",
    "\n",
    "If you do not want to download/upload your personal copy every time you start the binder we advice you to download the notebooks and upload them to [Google Colaboratory](https://colab.research.google.com) which saves them to your Google Drive and allows you to share your personal copies with colleagues as you would with a Google Doc."
   ]
  },
  {
   "cell_type": "markdown",
   "id": "2bec3095",
   "metadata": {},
   "source": [
    "## Importing csv files into Excel\n",
    "\n",
    "You can import your `.csv` file into Excel, by TODO ...."
   ]
  },
  {
   "cell_type": "markdown",
   "id": "4898b8c0",
   "metadata": {},
   "source": [
    "That should be it, you should now be able to run your own simulations. Have fun! \n",
    "You can now go back to the landing page by selecting it in the file browser (<i class=\"fa fa-folder\" aria-hidden=\"true\"></i> in the top left or Ctrl+Shift+F) or by clicking [here](Landing%20Page.ipynb)"
   ]
  }
 ],
 "metadata": {
  "kernelspec": {
   "display_name": "Python 3 (ipykernel)",
   "language": "python",
   "name": "python3"
  },
  "language_info": {
   "codemirror_mode": {
    "name": "ipython",
    "version": 3
   },
   "file_extension": ".py",
   "mimetype": "text/x-python",
   "name": "python",
   "nbconvert_exporter": "python",
   "pygments_lexer": "ipython3",
   "version": "3.9.7"
  }
 },
 "nbformat": 4,
 "nbformat_minor": 5
}
